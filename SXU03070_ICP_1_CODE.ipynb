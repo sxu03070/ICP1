{
 "cells": [
  {
   "cell_type": "code",
   "execution_count": 1,
   "metadata": {
    "colab": {
     "base_uri": "https://localhost:8080/"
    },
    "id": "iVIMULpJeUgH",
    "outputId": "4ad17d7c-8e03-46c0-9efe-5664c19d6646"
   },
   "outputs": [
    {
     "name": "stdout",
     "output_type": "stream",
     "text": [
      "Enter a string: NEURAL NETWORKS\n",
      "Reversed string: SKROWTEN LARU\n"
     ]
    }
   ],
   "source": [
    "input_string = input(\"Enter a string: \")\n",
    "if len(input_string) < 2:\n",
    "    print(\"Input string must have at least 2 characters.\")\n",
    "else:\n",
    "    '''Below statement reads string from index 2, which satisfies removing 2 charcters constraint'''\n",
    "    modified_string = input_string[2:]\n",
    "    \n",
    "    '''Below statement reverses the reamining string'''\n",
    "    reversed_string = modified_string[::-1]\n",
    "\n",
    "    print(\"Reversed string:\", reversed_string)\n"
   ]
  },
  {
   "cell_type": "code",
   "execution_count": 2,
   "metadata": {
    "colab": {
     "base_uri": "https://localhost:8080/"
    },
    "id": "p7_tKU-zgB4Y",
    "outputId": "125b5701-1127-42ac-c6c6-3dc3a6ba6674"
   },
   "outputs": [
    {
     "name": "stdout",
     "output_type": "stream",
     "text": [
      "Enter first number: 10\n",
      "eneter second number: 5\n",
      "Addition: 15.0\n",
      "Subtraction: 5.0\n",
      "Multiplication: 50.0\n",
      "Division: 2.0\n"
     ]
    }
   ],
   "source": [
    "num1 = float(input(\"Enter first number: \"))\n",
    "num2 = float(input(\"eneter second number: \"))\n",
    "print(\"Addition:\", num1+num2)\n",
    "print(\"Subtraction:\", num1-num2)\n",
    "print(\"Multiplication:\", num1*num2)\n",
    "print(\"Division:\", num1/num2)"
   ]
  },
  {
   "cell_type": "code",
   "execution_count": 6,
   "metadata": {
    "colab": {
     "base_uri": "https://localhost:8080/"
    },
    "id": "oZiCeqeshKoD",
    "outputId": "a27e8fef-b936-48cf-fcfe-da71649a8ecf"
   },
   "outputs": [
    {
     "name": "stdout",
     "output_type": "stream",
     "text": [
      "Enter a sentence: i love playing with python while writing code in python\n",
      "Modified sentence: i love playing with pythons while writing code in pythons\n"
     ]
    }
   ],
   "source": [
    "input_sentence = input(\"Enter a sentence: \")\n",
    "\n",
    "'''Below string method replace() is used to replace python with pythons'''\n",
    "modified_sentence = input_sentence.replace('python', 'pythons')\n",
    "\n",
    "print(\"Modified sentence:\", modified_sentence)\n"
   ]
  },
  {
   "cell_type": "code",
   "execution_count": 7,
   "metadata": {
    "colab": {
     "base_uri": "https://localhost:8080/"
    },
    "id": "YDbX69x9heD1",
    "outputId": "62d03da4-ba7a-4246-f34c-6e94d0bc76a5"
   },
   "outputs": [
    {
     "name": "stdout",
     "output_type": "stream",
     "text": [
      "Enter class score: 90\n",
      "YOUR GRADE IS 'A' \n"
     ]
    }
   ],
   "source": [
    "score = int(input(\"Enter class score: \"))\n",
    "if(score>=90):\n",
    "  print(\"YOUR GRADE IS \\'A' \")\n",
    "elif(score>=80 and score<90):\n",
    "  print(\"YOUR GRADE IS \\'B' \")\n",
    "elif(score>=70 and score<80):\n",
    "  print(\"YOUR GRADE IS \\'C' \")\n",
    "elif(score>=60 and score<70):\n",
    "  print(\"YOUR GRADE IS \\'D' \")\n",
    "else:\n",
    "  print(\"YOUR GRADE IS \\'F' \")"
   ]
  },
  {
   "cell_type": "code",
   "execution_count": null,
   "metadata": {},
   "outputs": [],
   "source": []
  }
 ],
 "metadata": {
  "colab": {
   "provenance": []
  },
  "kernelspec": {
   "display_name": "Python 3 (ipykernel)",
   "language": "python",
   "name": "python3"
  },
  "language_info": {
   "codemirror_mode": {
    "name": "ipython",
    "version": 3
   },
   "file_extension": ".py",
   "mimetype": "text/x-python",
   "name": "python",
   "nbconvert_exporter": "python",
   "pygments_lexer": "ipython3",
   "version": "3.11.5"
  }
 },
 "nbformat": 4,
 "nbformat_minor": 1
}
